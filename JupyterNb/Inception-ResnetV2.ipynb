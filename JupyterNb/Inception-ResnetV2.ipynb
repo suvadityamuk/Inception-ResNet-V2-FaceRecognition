{
 "cells": [
  {
   "cell_type": "markdown",
   "id": "00ae6efc",
   "metadata": {},
   "source": [
    "# Inception-ResNet-V2 : Face Recognition\n",
    "\n",
    "#### Developed by Szegedy et. al.\n",
    "#### Contributed by : Suvaditya Mukherjee [@suvadityamuk](https://github.com/suvadityamuk)"
   ]
  },
  {
   "cell_type": "markdown",
   "id": "c74d54ec",
   "metadata": {},
   "source": [
    "### Import Calls"
   ]
  },
  {
   "cell_type": "markdown",
   "id": "410aa987",
   "metadata": {},
   "source": [
    "Imports include\n",
    "- `torch` : An open source machine learning framework that accelerates the path from research prototyping to production deployment.\n",
    "- `pandas` : pandas is a fast, powerful, flexible and easy to use open source data analysis and manipulation tool, built on top of the Python programming language.\n",
    "- `tqdm` : tqdm is a library in Python which is used for creating Progress Meters or Progress Bars.\n",
    "- `PIL` : Python Imaging Library is a free and open-source additional library for the Python programming language that adds support for opening, manipulating, and saving many different image file formats.\n",
    "- `prefetch_generator` : Simple package that makes your generator work in background thread.\n",
    "- `time` : This module provides various time-related functions."
   ]
  },
  {
   "cell_type": "code",
   "execution_count": null,
   "id": "8cb74f6d",
   "metadata": {},
   "outputs": [],
   "source": [
    "import torch\n",
    "from torch import nn\n",
    "from torch.nn import functional as F\n",
    "import os\n",
    "import pandas\n",
    "from torchvision.io import read_image   \n",
    "from torch import optim\n",
    "from tqdm.notebook import tqdm_notebook\n",
    "from prefetch_generator import BackgroundGenerator\n",
    "from torch.utils import data\n",
    "from torch.utils.tensorboard import SummaryWriter\n",
    "import time\n",
    "from torch.utils.data import DataLoader\n",
    "from torchvision import transforms\n",
    "from PIL import Image"
   ]
  },
  {
   "cell_type": "markdown",
   "id": "a7688b22",
   "metadata": {},
   "source": [
    "## Implementation of each layer present in the paper"
   ]
  },
  {
   "cell_type": "markdown",
   "id": "110a131e",
   "metadata": {},
   "source": [
    "### Definition of custom LambdaScale"
   ]
  },
  {
   "cell_type": "markdown",
   "id": "fc53a304",
   "metadata": {},
   "source": [
    "Uses `jit.ScriptModule` to help convert the Python-based logic to C++-backed code for compatibility with TorchScript based saving functions"
   ]
  },
  {
   "cell_type": "code",
   "execution_count": null,
   "id": "0edfbcd7",
   "metadata": {},
   "outputs": [],
   "source": [
    "class LambdaScale(jit.ScriptModule):\n",
    "    def __init__(self):\n",
    "        super().__init__()\n",
    "        \n",
    "        self.lambda_f = lambda x:x*0.1\n",
    "    def forward(self, X):\n",
    "        X = self.lambda_f(X)\n",
    "        return X"
   ]
  },
  {
   "cell_type": "markdown",
   "id": "377c5c66",
   "metadata": {},
   "source": [
    "### Definition of Stem"
   ]
  },
  {
   "cell_type": "code",
   "execution_count": null,
   "id": "73a170bf",
   "metadata": {},
   "outputs": [],
   "source": [
    "class InceptionResnetv2Stem(nn.Module):\n",
    "    def __init__(self):\n",
    "        super().__init__()\n",
    "        \n",
    "        self.sub0conv1 = nn.Conv2d(3, 32, kernel_size=3, stride=2)\n",
    "        self.sub0conv2 = nn.Conv2d(32, 32, kernel_size=3)\n",
    "        self.sub0conv3 = nn.Conv2d(32, 64, kernel_size=3, padding='same')\n",
    "        \n",
    "        self.sub1p1_mpool1 = nn.MaxPool2d(kernel_size=3, stride=2)\n",
    "        \n",
    "        self.sub1p2_conv1 = nn.Conv2d(64, 80, kernel_size=3, stride=2)\n",
    "        \n",
    "        self.sub2p1_conv1 = nn.Conv2d(64, 80, kernel_size=1, padding='same')\n",
    "        self.sub2p1_conv2 = nn.Conv2d(80, 192, kernel_size=3)\n",
    "        \n",
    "        self.sub3p2_mpool1 = nn.MaxPool2d(kernel_size=3, stride=2)\n",
    "        \n",
    "        self.branch0 = nn.Conv2d(192, 96, kernel_size=1)\n",
    "        \n",
    "        self.branch1a = nn.Conv2d(192, 48, kernel_size=1)\n",
    "        self.branch1b = nn.Conv2d(48, 64, kernel_size=5, padding=2)\n",
    "        \n",
    "        self.branch2a = nn.Conv2d(192, 64, kernel_size=1)\n",
    "        self.branch2b = nn.Conv2d(64, 96, kernel_size=3, padding=1)\n",
    "        self.branch2c = nn.Conv2d(96, 96, kernel_size=3, padding=1)\n",
    "        \n",
    "        self.branch3a = nn.AvgPool2d(3, padding=1, count_include_pad=False)\n",
    "        self.branch3b = nn.Conv2d(192, 64, kernel_size=1, stride=1)\n",
    "        \n",
    "        self.batchNorm = nn.BatchNorm2d(320)\n",
    "    \n",
    "    def forward(self, X):\n",
    "        \n",
    "        X = F.relu(self.sub0conv1(X)) \n",
    "        X = F.relu(self.sub0conv2(X)) \n",
    "        X = F.relu(self.sub0conv3(X)) \n",
    "        \n",
    "        X = self.sub1p1_mpool1(X)\n",
    "        X = F.relu(self.sub2p1_conv1(X))\n",
    "        X = F.relu(self.sub2p1_conv2(X))\n",
    "        \n",
    "        X = self.sub3p2_mpool1(X)\n",
    "        \n",
    "        X0 = self.branch0(X)\n",
    "        \n",
    "        X1 = self.branch1a(X)\n",
    "        X1 = self.branch1b(X1)\n",
    "        \n",
    "        X2 = self.branch2a(X)\n",
    "        X2 = self.branch2b(X2)\n",
    "        X2 = self.branch2c(X2)\n",
    "        \n",
    "        X3 = self.branch3a(X)\n",
    "        X3 = self.branch3b(X)\n",
    "        \n",
    "        X = torch.cat((X0, X1, X2, X3), 1)\n",
    "        \n",
    "        X = self.batchNorm(X)\n",
    "        X = F.relu(X)\n",
    "        return X"
   ]
  },
  {
   "cell_type": "markdown",
   "id": "c333e91e",
   "metadata": {},
   "source": [
    "### Definition of ResNet Block A"
   ]
  },
  {
   "cell_type": "code",
   "execution_count": null,
   "id": "3ae22c12",
   "metadata": {},
   "outputs": [],
   "source": [
    "class InceptionResnetv2A(nn.Module):\n",
    "    def __init__(self, scale=True):\n",
    "        super().__init__()\n",
    "        self.scale = scale\n",
    "        \n",
    "        self.p1_conv1 = nn.Conv2d(320, 32, kernel_size=1, padding='same')\n",
    "        \n",
    "        self.p2_conv1 = nn.Conv2d(320, 32, kernel_size=1, padding='same')\n",
    "        self.p2_conv2 = nn.Conv2d(32, 32, kernel_size=3, padding='same')\n",
    "        \n",
    "        self.p3_conv1 = nn.Conv2d(320, 32, kernel_size=1, padding='same')\n",
    "        self.p3_conv2 = nn.Conv2d(32, 48, kernel_size=3, padding='same')\n",
    "        self.p3_conv3 = nn.Conv2d(48, 64, kernel_size=3, padding='same')\n",
    "        \n",
    "        self.p_conv1 = nn.Conv2d(128, 320, kernel_size=1, padding='same')\n",
    "        \n",
    "        self.batchNorm = nn.BatchNorm2d(320, affine=True)\n",
    "        \n",
    "        if self.scale:\n",
    "            self.scaleLayer = LambdaScale()\n",
    "        \n",
    "    def forward(self, X):\n",
    "        \n",
    "        # X is relu-activated\n",
    "        old = X\n",
    "        \n",
    "        X1 = F.relu(self.p1_conv1(X))\n",
    "        \n",
    "        X2 = F.relu(self.p2_conv1(X))\n",
    "        X2 = F.relu(self.p2_conv2(X2))\n",
    "        \n",
    "        X3 = F.relu(self.p3_conv1(X))\n",
    "        X3 = F.relu(self.p3_conv2(X3))\n",
    "        X3 = F.relu(self.p3_conv3(X3))\n",
    "        \n",
    "        X = torch.cat((X1, X2, X3), dim=1)\n",
    "        \n",
    "        X = self.p_conv1(X)\n",
    "        if self.scale:\n",
    "            X = self.scaleLayer(X)\n",
    "        \n",
    "        X = self.batchNorm(X)\n",
    "        X = F.relu(X)\n",
    "        \n",
    "        return X"
   ]
  },
  {
   "cell_type": "markdown",
   "id": "ac733ba9",
   "metadata": {},
   "source": [
    "### Definition of ResNet Block B"
   ]
  },
  {
   "cell_type": "code",
   "execution_count": null,
   "id": "53329ca6",
   "metadata": {},
   "outputs": [],
   "source": [
    "class InceptionResnetv2B(nn.Module):\n",
    "\n",
    "    def __init__(self, scale=True):\n",
    "        super().__init__()\n",
    "        self.scale = scale\n",
    "        self.p1_conv1 = nn.Conv2d(1088, 192, kernel_size=1, stride=1, padding='same')\n",
    "        \n",
    "        self.p2_conv1 = nn.Conv2d(1088, 128, kernel_size=1, padding='same')\n",
    "        self.p2_conv2 = nn.Conv2d(128, 160, kernel_size=(1,7), padding='same')\n",
    "        self.p2_conv3 = nn.Conv2d(160, 192, kernel_size=(7,1), padding='same')\n",
    "        \n",
    "        self.p3_conv = nn.Conv2d(384, 1088, kernel_size=1, padding='same')\n",
    "        \n",
    "        self.batchNorm = nn.BatchNorm2d(1088, affine=True)\n",
    "        if self.scale:\n",
    "            self.scaleLayer = LambdaScale()\n",
    "            \n",
    "    def forward(self, X):\n",
    "        old = X\n",
    "        X1 = F.relu(self.p1_conv1(X))\n",
    "        \n",
    "        X2 = F.relu(self.p2_conv1(X))\n",
    "        X2 = F.relu(self.p2_conv2(X2))\n",
    "        X2 = F.relu(self.p2_conv3(X2))\n",
    "        \n",
    "        X = torch.cat((X1, X2), dim=1)\n",
    "        \n",
    "        X = F.relu(self.p3_conv(X))\n",
    "        if self.scale:\n",
    "            X = self.scaleLayer(X)\n",
    "        \n",
    "        X = self.batchNorm(X)\n",
    "        X = F.relu(X)\n",
    "        \n",
    "        return X"
   ]
  },
  {
   "cell_type": "markdown",
   "id": "21981a2a",
   "metadata": {},
   "source": [
    "### Definition of ResNet Block C"
   ]
  },
  {
   "cell_type": "code",
   "execution_count": null,
   "id": "15aa6872",
   "metadata": {},
   "outputs": [],
   "source": [
    "class InceptionResnetv2C(nn.Module):\n",
    "    def __init__(self, scale=True, noRelu=False):\n",
    "        super().__init__()\n",
    "        self.scale = scale\n",
    "        \n",
    "        self.noRelu = noRelu\n",
    "        self.p1_conv1 = nn.Conv2d(2080, 192, kernel_size=1, padding='same')\n",
    "        \n",
    "        self.p2_conv1 = nn.Conv2d(2080, 192, kernel_size=1, padding='same')\n",
    "        self.p2_conv2 = nn.Conv2d(192, 224, kernel_size=(1,3), padding='same')\n",
    "        self.p2_conv3 = nn.Conv2d(224, 256, kernel_size=(3,1), padding='same')\n",
    "        \n",
    "        self.p3_conv = nn.Conv2d(448, 2080, kernel_size=1, padding='same')\n",
    "        \n",
    "        self.batchNorm = nn.BatchNorm2d(2080, affine=True)\n",
    "        if self.scale:\n",
    "            self.scaleLayer = LambdaScale()\n",
    "    def forward(self, X):\n",
    "        old = X\n",
    "        X1 = F.relu(self.p1_conv1(X))\n",
    "        \n",
    "        X2 = F.relu(self.p2_conv1(X))\n",
    "        X2 = F.relu(self.p2_conv2(X2))\n",
    "        X2 = F.relu(self.p2_conv3(X2))\n",
    "        \n",
    "        X = torch.cat((X1, X2), dim=1)\n",
    "        \n",
    "        X = F.relu(self.p3_conv(X))\n",
    "        if self.scale:\n",
    "            X = self.scaleLayer(X)\n",
    "        \n",
    "        X = self.batchNorm(X)\n",
    "        if not self.noRelu:\n",
    "            X = F.relu(X)\n",
    "        \n",
    "        return X"
   ]
  },
  {
   "cell_type": "markdown",
   "id": "87f28d9b",
   "metadata": {},
   "source": [
    "### Definition of ResNet Block - Reduction A"
   ]
  },
  {
   "cell_type": "code",
   "execution_count": null,
   "id": "c87573ae",
   "metadata": {},
   "outputs": [],
   "source": [
    "class InceptionResnetv2ReductionA(nn.Module):\n",
    "    def __init__(self):\n",
    "        super().__init__()\n",
    "        \n",
    "        self.p1_mpool1 = nn.MaxPool2d(kernel_size=3, stride=2)\n",
    "        \n",
    "        self.p2_conv1 = nn.Conv2d(320, 384, kernel_size=3, stride=2)\n",
    "        \n",
    "        self.p3_conv1 = nn.Conv2d(320, 256, kernel_size=1, padding='same')\n",
    "        self.p3_conv2 = nn.Conv2d(256, 256, kernel_size=3, padding='same')\n",
    "        self.p3_conv3 = nn.Conv2d(256, 384, kernel_size=3, stride=2)\n",
    "        \n",
    "        self.batchNorm = nn.BatchNorm2d(1088, affine=True)\n",
    "        \n",
    "    def forward(self, X):\n",
    "        \n",
    "        X1 = self.p1_mpool1(X)\n",
    "        \n",
    "        X2 = F.relu(self.p2_conv1(X))\n",
    "        \n",
    "        X3 = F.relu(self.p3_conv1(X))\n",
    "        X3 = F.relu(self.p3_conv2(X3))\n",
    "        X3 = F.relu(self.p3_conv3(X3))\n",
    "        \n",
    "        X = torch.cat((X1, X2, X3), dim=1)\n",
    "        \n",
    "        X = self.batchNorm(X)\n",
    "        X = F.relu(X)\n",
    "        \n",
    "        return X"
   ]
  },
  {
   "cell_type": "markdown",
   "id": "aef92953",
   "metadata": {},
   "source": [
    "### Definition of ResNet Block - Reduction B"
   ]
  },
  {
   "cell_type": "code",
   "execution_count": null,
   "id": "a59ffe40",
   "metadata": {},
   "outputs": [],
   "source": [
    "class InceptionResnetv2ReductionB(nn.Module):\n",
    "    def __init__(self):\n",
    "        super().__init__()\n",
    "        \n",
    "        self.p1_mpool1 = nn.MaxPool2d(kernel_size=3, stride=2)\n",
    "        \n",
    "        self.p2_conv1 = nn.Conv2d(1088, 256, kernel_size=1, padding='same')\n",
    "        self.p2_conv2 = nn.Conv2d(256, 384, kernel_size=3, stride=2)\n",
    "        \n",
    "        self.p3_conv1 = nn.Conv2d(1088, 256, kernel_size=1, padding='same')\n",
    "        self.p3_conv2 = nn.Conv2d(256, 288, kernel_size=3, stride=2)\n",
    "        \n",
    "        self.p4_conv1 = nn.Conv2d(1088, 256, kernel_size=1, padding='same')\n",
    "        self.p4_conv2 = nn.Conv2d(256, 288, kernel_size=3, padding=1)\n",
    "        self.p4_conv3 = nn.Conv2d(288, 320, kernel_size=3, stride=2)\n",
    "        \n",
    "        self.batchNorm = nn.BatchNorm2d(2080, affine=True)\n",
    "        \n",
    "    def forward(self, X):\n",
    "        \n",
    "        X1 = self.p1_mpool1(X)\n",
    "        \n",
    "        X2 = F.relu(self.p2_conv1(X))\n",
    "        X2 = F.relu(self.p2_conv2(X2))\n",
    "        \n",
    "        X3 = F.relu(self.p3_conv1(X))\n",
    "        X3 = F.relu(self.p3_conv2(X3))\n",
    "        \n",
    "        X4 = F.relu(self.p4_conv1(X))\n",
    "        X4 = F.relu(self.p4_conv2(X4))\n",
    "        X4 = F.relu(self.p4_conv3(X4))\n",
    "        \n",
    "        X = torch.cat((X1, X2, X3, X4), dim=1)\n",
    "        \n",
    "        X = self.batchNorm(X)\n",
    "        X = F.relu(X)\n",
    "        \n",
    "        return X"
   ]
  },
  {
   "cell_type": "markdown",
   "id": "0457b220",
   "metadata": {},
   "source": [
    "### Definition of final Model"
   ]
  },
  {
   "cell_type": "code",
   "execution_count": null,
   "id": "201f6d34",
   "metadata": {},
   "outputs": [],
   "source": [
    "class InceptionResnetV2(nn.Module):\n",
    "    def __init__(self, scale=True, feature_list_size=1001):\n",
    "        super().__init__()\n",
    "        \n",
    "        self.scale = scale\n",
    "        self.stem = InceptionResnetv2Stem()\n",
    "        self.a = InceptionResnetv2A(scale=True)\n",
    "        self.b = InceptionResnetv2B(scale=True)\n",
    "        self.c = InceptionResnetv2C(scale=True)\n",
    "        self.noreluc = InceptionResnetv2C(scale=True, noRelu=True)\n",
    "        self.red_a = InceptionResnetv2ReductionA()\n",
    "        self.red_b = InceptionResnetv2ReductionB()\n",
    "        \n",
    "        self.avgpool = nn.AvgPool2d(8)\n",
    "        \n",
    "        self.conv2d = nn.Conv2d(2080, 1536, kernel_size=1,)\n",
    "        \n",
    "        self.dropout = nn.Dropout(0.8)\n",
    "        self.flatten = nn.Flatten()\n",
    "        \n",
    "        self.linear = nn.Linear(in_features=1536, out_features=feature_list_size)\n",
    "        \n",
    "    \n",
    "    def forward(self, X):\n",
    "        X = self.stem(X)\n",
    "        \n",
    "        for i in range(10):\n",
    "            X = self.a(X)\n",
    "        \n",
    "        X = self.red_a(X)\n",
    "        \n",
    "        for i in range(20):\n",
    "            X = self.b(X)\n",
    "        \n",
    "        X = self.red_b(X)\n",
    "        \n",
    "        for i in range(9):\n",
    "            X = self.c(X)\n",
    "            \n",
    "        X = self.noreluc(X)\n",
    "        \n",
    "        X = self.conv2d(X)\n",
    "        \n",
    "        X = self.dropout(X)\n",
    "        \n",
    "        X = self.avgpool(X)\n",
    "        \n",
    "        X = X.view(X.size(0), -1)\n",
    "        \n",
    "        X = self.linear(X)\n",
    "        \n",
    "        return X\n",
    "        "
   ]
  },
  {
   "cell_type": "markdown",
   "id": "dc81b788",
   "metadata": {},
   "source": [
    "### Test run of a random Tensor through the model"
   ]
  },
  {
   "cell_type": "markdown",
   "id": "1b6a20fb",
   "metadata": {},
   "source": [
    "This model takes a 299x299x3 image or Tensor as input. We now test the construction of the model by passing a randomly-generated tensor of the required dimensions"
   ]
  },
  {
   "cell_type": "code",
   "execution_count": null,
   "id": "8cb0d63b",
   "metadata": {},
   "outputs": [],
   "source": [
    "X = torch.randn(1, 3, 299, 299)\n",
    "model = InceptionResnetV2(feature_list_size=7)\n",
    "model.forward(X)"
   ]
  },
  {
   "cell_type": "markdown",
   "id": "357b0693",
   "metadata": {},
   "source": [
    "### Getting details of GPU present on machine and defining helpers to load previous models"
   ]
  },
  {
   "cell_type": "markdown",
   "id": "c4130568",
   "metadata": {},
   "source": [
    "Steps include\n",
    "- Running `!nvidia-smi` to get the details of the NVIDIA GPUs present on the system. (only for GPU-backed systems)  \n",
    "- Using `torch.cuda.device_count()` to get the number of devices `torch` could use to perform operations. In case of a CPU + GPU system, we will see 2 devices. We use this information to set a variable `device` having information on the active device to use for all training operations later ahead  \n",
    "- Helpers to read in and use pre-trained versions of the model  "
   ]
  },
  {
   "cell_type": "code",
   "execution_count": null,
   "id": "781c938a",
   "metadata": {},
   "outputs": [],
   "source": [
    "!nvidia-smi"
   ]
  },
  {
   "cell_type": "code",
   "execution_count": null,
   "id": "fe06593e",
   "metadata": {},
   "outputs": [],
   "source": [
    "torch.cuda.device_count()"
   ]
  },
  {
   "cell_type": "code",
   "execution_count": null,
   "id": "b76c0ed8",
   "metadata": {},
   "outputs": [],
   "source": [
    "def try_gpu_else_cpu():\n",
    "    devices = [torch.device(f'cuda:{i}') for i in range(torch.cuda.device_count())]\n",
    "    return devices if devices else [torch.device('cpu')]\n",
    "device = try_gpu_else_cpu()"
   ]
  },
  {
   "cell_type": "code",
   "execution_count": null,
   "id": "01611b17",
   "metadata": {},
   "outputs": [],
   "source": [
    "def load_model_from_checkpoint(path, size):\n",
    "    res = torch.load(path)\n",
    "    model = InceptionResnetV2(feature_list_size=size)\n",
    "    model.load_state_dict(res['model.state_dict'])\n",
    "    optimizer = optim.Adam(net.parameters(), weight_decay=0.009, amsgrad=True)\n",
    "    optimizer.load_state_dict(res['optimizer.state_dict'])\n",
    "    epoch = res['epoch']\n",
    "    return model, optimizer, epoch"
   ]
  },
  {
   "cell_type": "markdown",
   "id": "0cc2164f",
   "metadata": {},
   "source": [
    "### Original-paper specified the following parameters"
   ]
  },
  {
   "cell_type": "code",
   "execution_count": null,
   "id": "d2dde3e7",
   "metadata": {},
   "outputs": [],
   "source": [
    "optimizer = optim.RMSprop(model.parameters(), weight_decay=0.9, eps=1.0, lr=0.045)\n",
    "loss_fn = nn.CrossEntropyLoss()"
   ]
  },
  {
   "cell_type": "markdown",
   "id": "6e5cb0fa",
   "metadata": {},
   "source": [
    "### Dataset preprocessing and Model training\n",
    "\n",
    "#### If you wish to download the dataset from Kaggle, you must generate an API Token first and place it in ~/.kaggle (Linux) or at C:/Users/(username) (Windows)\n",
    "#### The CelebA dataset also comes as a pre-processed dataset from PyTorch's `torchvision` Computer Vision library. More details can be found [here](https://pytorch.org/vision/main/generated/torchvision.datasets.CelebA.html)\n",
    "\n",
    "Steps to be followed here:\n",
    "- Get the dataset onto local system\n",
    "- Prepare the dataset's labels by getting the .csv files and processing them\n",
    "- Prepare a custom extension of the `torch.utils.data.Dataset` for our current dataset\n",
    "- Prepare the image transformations necessary to work on the images using `torchvision.transforms`"
   ]
  },
  {
   "cell_type": "code",
   "execution_count": null,
   "id": "a48087c7",
   "metadata": {},
   "outputs": [],
   "source": [
    "!pip install --no-deps --upgrade --force-reinstall kaggle\n",
    "!mkdir ~/.kaggle\n",
    "!cp kaggle.json ~/.kaggle/kaggle.json\n",
    "!chmod 600 ~/.kaggle/kaggle.json\n",
    "!kaggle datasets download -d jessicali9530/celeba-dataset\n",
    "!unzip celeba-dataset"
   ]
  },
  {
   "cell_type": "code",
   "execution_count": null,
   "id": "fd78b75f",
   "metadata": {},
   "outputs": [],
   "source": [
    "!mv img_align_celeba/img_align_celeba .."
   ]
  },
  {
   "cell_type": "code",
   "execution_count": null,
   "id": "0726e745",
   "metadata": {},
   "outputs": [],
   "source": [
    "import pandas as pd\n",
    "df_at = pd.read_csv(\"list_attr_celeba.csv\")\n",
    "df_div = pd.read_csv(\"list_eval_partition.csv\")"
   ]
  },
  {
   "cell_type": "code",
   "execution_count": null,
   "id": "d1853cb9",
   "metadata": {},
   "outputs": [],
   "source": [
    "df_image_train = pd.DataFrame()\n",
    "df_image_test = pd.DataFrame()\n",
    "df_image_valid = pd.DataFrame()\n",
    "df_image_train['image_id'] = df_div[df_div['partition'] == 0]['image_id']\n",
    "df_image_test['image_id'] = df_div[df_div['partition'] == 1]['image_id']\n",
    "df_image_valid['image_id'] = df_div[df_div['partition'] == 2]['image_id']\n",
    "df_image_train.reset_index(drop=True, inplace=True)\n",
    "df_image_test.reset_index(drop=True, inplace=True)\n",
    "df_image_valid.reset_index(drop=True, inplace=True)"
   ]
  },
  {
   "cell_type": "code",
   "execution_count": null,
   "id": "29c506ed",
   "metadata": {},
   "outputs": [],
   "source": [
    "get_gender = lambda x: df_at.iloc[x]['Male']"
   ]
  },
  {
   "cell_type": "code",
   "execution_count": null,
   "id": "6a4a4006",
   "metadata": {},
   "outputs": [],
   "source": [
    "train_labels = list()\n",
    "test_labels = list()\n",
    "valid_labels = list()\n",
    "for i in range(df_image_train.shape[0]):\n",
    "    train_labels.append(get_gender(i))\n",
    "df_image_train['gender'] = train_labels\n",
    "for i in range(df_image_test.shape[0]):\n",
    "    test_labels.append(get_gender(i))\n",
    "df_image_test['gender'] = test_labels\n",
    "for i in range(df_image_valid.shape[0]):\n",
    "    valid_labels.append(get_gender(i))\n",
    "df_image_valid['gender'] = valid_labels"
   ]
  },
  {
   "cell_type": "code",
   "execution_count": null,
   "id": "47851c18",
   "metadata": {},
   "outputs": [],
   "source": [
    "df_image_train.to_csv('train_labels.csv', index=None)\n",
    "df_image_test.to_csv('test_labels.csv', index=None)\n",
    "df_image_valid.to_csv('valid_labels.csv', index=None)"
   ]
  },
  {
   "cell_type": "code",
   "execution_count": null,
   "id": "8b5031d9",
   "metadata": {},
   "outputs": [],
   "source": [
    "print(f'Device: {device}')"
   ]
  },
  {
   "cell_type": "code",
   "execution_count": null,
   "id": "e13ccf04",
   "metadata": {},
   "outputs": [],
   "source": [
    "import os\n",
    "import pandas as pd\n",
    "from torchvision.io import read_image\n",
    "from torch.utils.data import Dataset\n",
    "import numpy as np\n",
    "\n",
    "class FaceRecognitionDataset(Dataset):\n",
    "    def __init__(self, img_dir, img_labels, transform=None, target_transform=None):\n",
    "        self.img_labels = pd.read_csv(img_labels)\n",
    "        self.img_dir = img_dir\n",
    "        self.transform = transform\n",
    "        self.target_transform = target_transform\n",
    "        self.label_classes = ['Female', 'Male']\n",
    "    \n",
    "    def __len__(self):\n",
    "        return len(self.img_labels)\n",
    "    \n",
    "    def __getitem__(self, idx):\n",
    "        img_path = os.path.join(self.img_dir, self.img_labels.iloc[idx, 0])\n",
    "        img = read_image(img_path).type(torch.float32)\n",
    "        label = 1 if self.img_labels.iloc[idx, 1] == 1 else 0\n",
    "        if self.transform:\n",
    "            img = self.transform(img)\n",
    "        if self.target_transform:\n",
    "            label = self.target_transform(label)\n",
    "        return img, label"
   ]
  },
  {
   "cell_type": "code",
   "execution_count": null,
   "id": "32004c48",
   "metadata": {},
   "outputs": [],
   "source": [
    "import os\n",
    "import matplotlib.pyplot as plt\n",
    "from torchvision import datasets, transforms\n",
    "\n",
    "IMG_DIR_PATH = \"img_align_celeba\" # Set this to your own folder which stores the dataset images\n",
    "TR_IMG_LBL_PATH = \"train_labels.csv\"\n",
    "TE_IMG_LBL_PATH = \"test_labels.csv\"\n",
    "VL_IMG_LBL_PATH = \"valid_labels.csv\"\n",
    "\n",
    "train_transforms = transforms.Compose([transforms.Resize(size=(299,299), interpolation=transforms.InterpolationMode.NEAREST), transforms.Normalize((0.5, 0.5, 0.5), (0.5, 0.5, 0.5))])\n",
    "train_dataset = FaceRecognitionDataset(img_dir=IMG_DIR_PATH, img_labels=TR_IMG_LBL_PATH, transform=train_transforms)\n",
    "\n",
    "data_train = DataLoader(train_dataset, shuffle=True, batch_size=9)"
   ]
  },
  {
   "cell_type": "markdown",
   "id": "5930449d",
   "metadata": {},
   "source": [
    "### Getting CUDA Memory summary and usage diagnostics"
   ]
  },
  {
   "cell_type": "code",
   "execution_count": null,
   "id": "a54ca7ec",
   "metadata": {
    "scrolled": true
   },
   "outputs": [],
   "source": [
    "print(torch.cuda.memory_summary(device=device, abbreviated=False))"
   ]
  },
  {
   "cell_type": "markdown",
   "id": "2339434f",
   "metadata": {},
   "source": [
    "### Cleaning all previous cache before using GPU"
   ]
  },
  {
   "cell_type": "code",
   "execution_count": null,
   "id": "1586169b",
   "metadata": {},
   "outputs": [],
   "source": [
    "torch.cuda.empty_cache()"
   ]
  },
  {
   "cell_type": "markdown",
   "id": "af4e0805",
   "metadata": {},
   "source": [
    "### Setting all seeds and options required to maintain reproducibility"
   ]
  },
  {
   "cell_type": "code",
   "execution_count": null,
   "id": "2b4de5c4",
   "metadata": {},
   "outputs": [],
   "source": [
    "torch.backends.cudnn.benchmark = True\n",
    "torch.manual_seed(1)\n",
    "torch.cuda.manual_seed(1)"
   ]
  },
  {
   "cell_type": "markdown",
   "id": "9bc13336",
   "metadata": {},
   "source": [
    "### Training function"
   ]
  },
  {
   "cell_type": "code",
   "execution_count": null,
   "id": "e11885aa",
   "metadata": {},
   "outputs": [],
   "source": [
    "def train_net(train_loader, epochs=2):\n",
    "    \n",
    "    CURRENT_DIRECTORY = os.getcwd()\n",
    "    EPOCH_DIRECTORY = os.path.join(CURRENT_DIRECTORY, 'resnet-v2-epochs')\n",
    "    if not os.path.exists(EPOCH_DIRECTORY):\n",
    "        os.mkdir(EPOCH_DIRECTORY)\n",
    "        \n",
    "    device = torch.device(\"cuda:0\" if torch.cuda.is_available() else \"cpu\")\n",
    "    net = InceptionResnetV2(feature_list_size=2).to(device)\n",
    "    loss_fn = nn.CrossEntropyLoss()\n",
    "    optimizer = optim.Adam(net.parameters(), weight_decay=0.009, amsgrad=True)\n",
    "    scheduler = optim.lr_scheduler.ReduceLROnPlateau(optimizer, mode='min', factor=0.2, threshold=0.01, patience=5)\n",
    "    \n",
    "    running_loss = 0.00\n",
    "    count = 0\n",
    "    \n",
    "    writer = SummaryWriter()\n",
    "    \n",
    "    for i in range(epochs):\n",
    "        \n",
    "        pbar = tqdm_notebook(enumerate(BackgroundGenerator(train_loader), 0),\n",
    "                    total=len(train_loader))\n",
    "        start_time = time.time()\n",
    "        \n",
    "        CHECKPOINT_PATH = os.path.join(EPOCH_DIRECTORY, f'model_ckpt_epoch{i+1}.pkl')\n",
    "        TORCHSCRIPT_PATH = os.path.join(EPOCH_DIRECTORY, f'script_resnetv2_model_{i+1}.pkl')\n",
    "        \n",
    "        for j, data in pbar:\n",
    "            images, labels = data\n",
    "            \n",
    "            inp, targs = images.to(device), labels.to(device)\n",
    "                \n",
    "            prepare_time = start_time-time.time()\n",
    "\n",
    "            optimizer.zero_grad()\n",
    "\n",
    "            output = net(inp)\n",
    "            loss = loss_fn(output, targs)\n",
    "            loss.backward()\n",
    "            optimizer.step()\n",
    "            count+=1\n",
    "            \n",
    "            process_time = start_time-time.time()-prepare_time\n",
    "            pbar.set_description(f'Efficiency = {process_time/(process_time+prepare_time):.4f}\\tEpochs: {i+1}/{epochs}\\tLoss: {loss:.4f}')\n",
    "            running_loss += loss.item()\n",
    "            \n",
    "            writer.add_scalar('Compute Time efficiency (per mini-batch)', process_time/(process_time+prepare_time),\n",
    "                             j)\n",
    "            writer.add_scalar('Training Loss', loss, j)\n",
    "            \n",
    "            \n",
    "            \n",
    "        scheduler.step(loss)\n",
    "        torch.save({\n",
    "            \"model.state_dict\" : net.state_dict(),\n",
    "            \"optimizer.state_dict\" : optimizer.state_dict(),\n",
    "            \"epoch\":i\n",
    "        }, CHECKPOINT_PATH)\n",
    "    \n",
    "    \n",
    "    writer.flush()\n",
    "    writer.close()\n",
    "    \n",
    "    img, lbl = next(iter(train_loader))\n",
    "    img = img.to(device)\n",
    "    writer.add_graph(net, img)\n",
    "    \n",
    "    import gc\n",
    "    gc.collect()\n",
    "\n",
    "    return net, optimizer"
   ]
  },
  {
   "cell_type": "markdown",
   "id": "95a47d9e",
   "metadata": {},
   "source": [
    "The below function begins the training process. Change the `epochs` parameter on line 4 to train for higher epochs. A good number to train for would be 10. The model after each epoch, will be saved as a .pkl file for future use, with the final model saved as a TorchScript model file for high-speed inferencing"
   ]
  },
  {
   "cell_type": "code",
   "execution_count": null,
   "id": "b8f2777c",
   "metadata": {},
   "outputs": [],
   "source": [
    "CURRENT_DIRECTORY = os.getcwd()\n",
    "EPOCH_DIRECTORY = os.path.join(CURRENT_DIRECTORY, 'resnet-v2-epochs')\n",
    "TORCHSCRIPT_PATH = os.path.join(EPOCH_DIRECTORY, f'script_resnetv2_model_{i+1}.pkl')\n",
    "net, opt = train_net(data_train, epochs=1)\n",
    "net_scripted = torch.jit.script(net)\n",
    "net_scripted.save(TORCHSCRIPT_PATH)"
   ]
  },
  {
   "cell_type": "markdown",
   "id": "14298fd0",
   "metadata": {},
   "source": [
    "### Defining function to load TorchScript-based model. Use as per needed, if required."
   ]
  },
  {
   "cell_type": "code",
   "execution_count": null,
   "id": "c437e047",
   "metadata": {},
   "outputs": [],
   "source": [
    "def loadTorchScript(SCRIPT_PATH):\n",
    "    net = torch.jit.load(SCRIPT_PATH)\n",
    "    net.eval()\n",
    "    return net"
   ]
  },
  {
   "cell_type": "markdown",
   "id": "9734850f",
   "metadata": {},
   "source": [
    "### Using Tensorboard. Navigate to http://localhost:6006/ while cell is executing"
   ]
  },
  {
   "cell_type": "markdown",
   "id": "e5bfbb84",
   "metadata": {},
   "source": [
    "TensorBoard logs the per-minibatch loss, as well as a full visualization of the model in an interactive manner"
   ]
  },
  {
   "cell_type": "code",
   "execution_count": null,
   "id": "bf868691",
   "metadata": {
    "scrolled": true
   },
   "outputs": [],
   "source": [
    "# View Tensorboard\n",
    "!pip install tensorboard\n",
    "!tensorboard --logdir=runs"
   ]
  },
  {
   "cell_type": "markdown",
   "id": "e190e775",
   "metadata": {},
   "source": [
    "### Defining functions to generate predictions from model"
   ]
  },
  {
   "cell_type": "code",
   "execution_count": null,
   "id": "372f403f",
   "metadata": {},
   "outputs": [],
   "source": [
    "def predict_class(img, transform_func):\n",
    "    classes = ['Female', 'Male']\n",
    "    var = torch.autograd.Variable(img).cuda()\n",
    "    \n",
    "    # Use latest model epoch by changing path\n",
    "    # model, opt, ep = load_model_from_checkpoint(\"model_ckpt_epochn.pkl\")\n",
    "    model = net\n",
    "    res = model(var)\n",
    "    res = res.cpu()\n",
    "    clsf = res.data.numpy()\n",
    "    pred = list()\n",
    "    print(res)\n",
    "    print(clsf)\n",
    "    for i in clsf:\n",
    "        print(i.argmax())\n",
    "        pred.append(classes[i.argmax()])\n",
    "    return pred"
   ]
  },
  {
   "cell_type": "markdown",
   "id": "093efdd5",
   "metadata": {},
   "source": [
    "### Testing phase"
   ]
  },
  {
   "cell_type": "code",
   "execution_count": null,
   "id": "6c39ca8f",
   "metadata": {},
   "outputs": [],
   "source": [
    "test_transforms = transforms.Compose([transforms.Resize(size=(299,299), interpolation=transforms.InterpolationMode.NEAREST), transforms.Normalize((0.5, 0.5, 0.5), (0.5, 0.5, 0.5))])\n",
    "test_dataset = FaceRecognitionDataset(img_dir=IMG_DIR_PATH, img_labels=TE_IMG_LBL_PATH, transform=test_transforms)\n",
    "\n",
    "data_test = DataLoader(test_dataset, shuffle=True, batch_size=2)\n",
    "\n",
    "images, labels = next(iter(data_test))\n",
    "\n",
    "for i in range(len(images)):\n",
    "\n",
    "    img = images.cpu().numpy()[i]\n",
    "    img = img.astype(int)\n",
    "    img = np.transpose(img, (1,2,0))\n",
    "    plt.imshow(img)\n",
    "    plt.show()  \n",
    "\n",
    "    res = predict_class(images, test_transforms)\n",
    "    print(labels)\n",
    "    print(res)"
   ]
  },
  {
   "cell_type": "markdown",
   "id": "99218db0",
   "metadata": {},
   "source": [
    "### How to run the notebook to generate inferences\n",
    "\n",
    "- To see the model in action in general, run all cells and see the inferences from the last cell."
   ]
  },
  {
   "cell_type": "markdown",
   "id": "184bfd44",
   "metadata": {},
   "source": [
    "### Closing Ideas\n",
    "\n",
    "The training of this model requires over 10 epochs to produce viable results.\n",
    "Per-epoch training on a NVIDIA GTX 1650Ti 4GB, Intel i7-10750H, 16GB RAM computer required approximately 2 hours with a batch-size of 9.\n",
    "On using Colab Pro Plus with NVIDIA Tesla GPUs, we got a training time of approximately 45 minutes with the training samples present.\n",
    "For better use, one can fork, make changes and push pre-trained checkpoint files of the model for better and easier direct use."
   ]
  }
 ],
 "metadata": {
  "kernelspec": {
   "display_name": "Python 3 (ipykernel)",
   "language": "python",
   "name": "python3"
  },
  "language_info": {
   "codemirror_mode": {
    "name": "ipython",
    "version": 3
   },
   "file_extension": ".py",
   "mimetype": "text/x-python",
   "name": "python",
   "nbconvert_exporter": "python",
   "pygments_lexer": "ipython3",
   "version": "3.10.4"
  }
 },
 "nbformat": 4,
 "nbformat_minor": 5
}
