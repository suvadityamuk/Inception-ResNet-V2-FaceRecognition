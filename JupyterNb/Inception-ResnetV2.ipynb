{
 "cells": [
  {
   "cell_type": "markdown",
   "id": "00ae6efc",
   "metadata": {},
   "source": [
    "# Inception-ResNet-V2 : Face Recognition\n",
    "\n",
    "#### Developed by Szegedy et. al."
   ]
  },
  {
   "cell_type": "markdown",
   "id": "c74d54ec",
   "metadata": {},
   "source": [
    "### Import Calls"
   ]
  },
  {
   "cell_type": "code",
   "execution_count": null,
   "id": "8cb74f6d",
   "metadata": {},
   "outputs": [],
   "source": [
    "import torch\n",
    "from torch import nn\n",
    "from torch.nn import functional as F\n",
    "import os\n",
    "import pandas\n",
    "from torchvision.io import read_image   \n",
    "from torch import optim\n",
    "from tqdm.notebook import tqdm_notebook\n",
    "from prefetch_generator import BackgroundGenerator\n",
    "from torch.utils import data\n",
    "from torch.utils.tensorboard import SummaryWriter\n",
    "import time\n",
    "from torch.utils.data import DataLoader\n",
    "from torchvision import transforms\n",
    "from PIL import Image"
   ]
  },
  {
   "cell_type": "markdown",
   "id": "110a131e",
   "metadata": {},
   "source": [
    "### Definition of custom LambdaScale"
   ]
  },
  {
   "cell_type": "code",
   "execution_count": null,
   "id": "0edfbcd7",
   "metadata": {},
   "outputs": [],
   "source": [
    "class LambdaScale(nn.Module):\n",
    "    def __init__(self):\n",
    "        super().__init__()\n",
    "        \n",
    "        self.lambda_f = lambda x:x*0.1\n",
    "    def forward(self, X):\n",
    "        X = self.lambda_f(X)\n",
    "        return X"
   ]
  },
  {
   "cell_type": "markdown",
   "id": "377c5c66",
   "metadata": {},
   "source": [
    "### Definition of Stem"
   ]
  },
  {
   "cell_type": "code",
   "execution_count": null,
   "id": "73a170bf",
   "metadata": {},
   "outputs": [],
   "source": [
    "class InceptionResnetv2Stem(nn.Module):\n",
    "    def __init__(self):\n",
    "        super().__init__()\n",
    "        \n",
    "        self.sub0conv1 = nn.Conv2d(3, 32, kernel_size=3, stride=2)\n",
    "        self.sub0conv2 = nn.Conv2d(32, 32, kernel_size=3)\n",
    "        self.sub0conv3 = nn.Conv2d(32, 64, kernel_size=3, padding='same')\n",
    "        \n",
    "        self.sub1p1_mpool1 = nn.MaxPool2d(kernel_size=3, stride=2)\n",
    "        \n",
    "        self.sub1p2_conv1 = nn.Conv2d(64, 80, kernel_size=3, stride=2)\n",
    "        \n",
    "        self.sub2p1_conv1 = nn.Conv2d(64, 80, kernel_size=1, padding='same')\n",
    "        self.sub2p1_conv2 = nn.Conv2d(80, 192, kernel_size=3)\n",
    "        \n",
    "        self.sub3p2_mpool1 = nn.MaxPool2d(kernel_size=3, stride=2)\n",
    "        \n",
    "        self.branch0 = nn.Conv2d(192, 96, kernel_size=1)\n",
    "        \n",
    "        self.branch1a = nn.Conv2d(192, 48, kernel_size=1)\n",
    "        self.branch1b = nn.Conv2d(48, 64, kernel_size=5, padding=2)\n",
    "        \n",
    "        self.branch2a = nn.Conv2d(192, 64, kernel_size=1)\n",
    "        self.branch2b = nn.Conv2d(64, 96, kernel_size=3, padding=1)\n",
    "        self.branch2c = nn.Conv2d(96, 96, kernel_size=3, padding=1)\n",
    "        \n",
    "        self.branch3a = nn.AvgPool2d(3, padding=1, count_include_pad=False)\n",
    "        self.branch3b = nn.Conv2d(192, 64, kernel_size=1, stride=1)\n",
    "        \n",
    "        self.batchNorm = nn.BatchNorm2d(320)\n",
    "    \n",
    "    def forward(self, X):\n",
    "        \n",
    "        X = F.relu(self.sub0conv1(X)) \n",
    "        X = F.relu(self.sub0conv2(X)) \n",
    "        X = F.relu(self.sub0conv3(X)) \n",
    "        \n",
    "        X = self.sub1p1_mpool1(X)\n",
    "        X = F.relu(self.sub2p1_conv1(X))\n",
    "        X = F.relu(self.sub2p1_conv2(X))\n",
    "        \n",
    "        X = self.sub3p2_mpool1(X)\n",
    "        \n",
    "        X0 = self.branch0(X)\n",
    "        \n",
    "        X1 = self.branch1a(X)\n",
    "        X1 = self.branch1b(X1)\n",
    "        \n",
    "        X2 = self.branch2a(X)\n",
    "        X2 = self.branch2b(X2)\n",
    "        X2 = self.branch2c(X2)\n",
    "        \n",
    "        X3 = self.branch3a(X)\n",
    "        X3 = self.branch3b(X)\n",
    "        \n",
    "        X = torch.cat((X0, X1, X2, X3), 1)\n",
    "        \n",
    "        X = self.batchNorm(X)\n",
    "        X = F.relu(X)\n",
    "        return X"
   ]
  },
  {
   "cell_type": "markdown",
   "id": "c333e91e",
   "metadata": {},
   "source": [
    "### Definition of ResNet Block A"
   ]
  },
  {
   "cell_type": "code",
   "execution_count": null,
   "id": "3ae22c12",
   "metadata": {},
   "outputs": [],
   "source": [
    "class InceptionResnetv2A(nn.Module):\n",
    "    def __init__(self, scale=True):\n",
    "        super().__init__()\n",
    "        self.scale = scale\n",
    "        \n",
    "        self.p1_conv1 = nn.Conv2d(320, 32, kernel_size=1, padding='same')\n",
    "        \n",
    "        self.p2_conv1 = nn.Conv2d(320, 32, kernel_size=1, padding='same')\n",
    "        self.p2_conv2 = nn.Conv2d(32, 32, kernel_size=3, padding='same')\n",
    "        \n",
    "        self.p3_conv1 = nn.Conv2d(320, 32, kernel_size=1, padding='same')\n",
    "        self.p3_conv2 = nn.Conv2d(32, 48, kernel_size=3, padding='same')\n",
    "        self.p3_conv3 = nn.Conv2d(48, 64, kernel_size=3, padding='same')\n",
    "        \n",
    "        self.p_conv1 = nn.Conv2d(128, 320, kernel_size=1, padding='same')\n",
    "        \n",
    "        self.batchNorm = nn.BatchNorm2d(320, affine=True)\n",
    "        \n",
    "        if self.scale:\n",
    "            self.scaleLayer = LambdaScale()\n",
    "        \n",
    "    def forward(self, X):\n",
    "        \n",
    "        # X is relu-activated\n",
    "        old = X\n",
    "        \n",
    "        X1 = F.relu(self.p1_conv1(X))\n",
    "        \n",
    "        X2 = F.relu(self.p2_conv1(X))\n",
    "        X2 = F.relu(self.p2_conv2(X2))\n",
    "        \n",
    "        X3 = F.relu(self.p3_conv1(X))\n",
    "        X3 = F.relu(self.p3_conv2(X3))\n",
    "        X3 = F.relu(self.p3_conv3(X3))\n",
    "        \n",
    "        X = torch.cat((X1, X2, X3), dim=1)\n",
    "        \n",
    "        X = self.p_conv1(X)\n",
    "        if self.scale:\n",
    "            X = self.scaleLayer(X)\n",
    "        \n",
    "        X = self.batchNorm(X)\n",
    "        X = F.relu(X)\n",
    "        \n",
    "        return X"
   ]
  },
  {
   "cell_type": "markdown",
   "id": "ac733ba9",
   "metadata": {},
   "source": [
    "### Definition of ResNet Block B"
   ]
  },
  {
   "cell_type": "code",
   "execution_count": null,
   "id": "53329ca6",
   "metadata": {},
   "outputs": [],
   "source": [
    "class InceptionResnetv2B(nn.Module):\n",
    "\n",
    "    def __init__(self, scale=True):\n",
    "        super().__init__()\n",
    "        self.scale = scale\n",
    "        self.p1_conv1 = nn.Conv2d(1088, 192, kernel_size=1, stride=1, padding='same')\n",
    "        \n",
    "        self.p2_conv1 = nn.Conv2d(1088, 128, kernel_size=1, padding='same')\n",
    "        self.p2_conv2 = nn.Conv2d(128, 160, kernel_size=(1,7), padding='same')\n",
    "        self.p2_conv3 = nn.Conv2d(160, 192, kernel_size=(7,1), padding='same')\n",
    "        \n",
    "        self.p3_conv = nn.Conv2d(384, 1088, kernel_size=1, padding='same')\n",
    "        \n",
    "        self.batchNorm = nn.BatchNorm2d(1088, affine=True)\n",
    "        if self.scale:\n",
    "            self.scaleLayer = LambdaScale()\n",
    "            \n",
    "    def forward(self, X):\n",
    "        old = X\n",
    "        X1 = F.relu(self.p1_conv1(X))\n",
    "        \n",
    "        X2 = F.relu(self.p2_conv1(X))\n",
    "        X2 = F.relu(self.p2_conv2(X2))\n",
    "        X2 = F.relu(self.p2_conv3(X2))\n",
    "        \n",
    "        X = torch.cat((X1, X2), dim=1)\n",
    "        \n",
    "        X = F.relu(self.p3_conv(X))\n",
    "        if self.scale:\n",
    "            X = self.scaleLayer(X)\n",
    "        \n",
    "        X = self.batchNorm(X)\n",
    "        X = F.relu(X)\n",
    "        \n",
    "        return X"
   ]
  },
  {
   "cell_type": "markdown",
   "id": "21981a2a",
   "metadata": {},
   "source": [
    "### Definition of ResNet Block C"
   ]
  },
  {
   "cell_type": "code",
   "execution_count": null,
   "id": "15aa6872",
   "metadata": {},
   "outputs": [],
   "source": [
    "class InceptionResnetv2C(nn.Module):\n",
    "    def __init__(self, scale=True, noRelu=False):\n",
    "        super().__init__()\n",
    "        self.scale = scale\n",
    "        \n",
    "        self.noRelu = noRelu\n",
    "        self.p1_conv1 = nn.Conv2d(2080, 192, kernel_size=1, padding='same')\n",
    "        \n",
    "        self.p2_conv1 = nn.Conv2d(2080, 192, kernel_size=1, padding='same')\n",
    "        self.p2_conv2 = nn.Conv2d(192, 224, kernel_size=(1,3), padding='same')\n",
    "        self.p2_conv3 = nn.Conv2d(224, 256, kernel_size=(3,1), padding='same')\n",
    "        \n",
    "        self.p3_conv = nn.Conv2d(448, 2080, kernel_size=1, padding='same')\n",
    "        \n",
    "        self.batchNorm = nn.BatchNorm2d(2080, affine=True)\n",
    "        if self.scale:\n",
    "            self.scaleLayer = LambdaScale()\n",
    "    def forward(self, X):\n",
    "        old = X\n",
    "        X1 = F.relu(self.p1_conv1(X))\n",
    "        \n",
    "        X2 = F.relu(self.p2_conv1(X))\n",
    "        X2 = F.relu(self.p2_conv2(X2))\n",
    "        X2 = F.relu(self.p2_conv3(X2))\n",
    "        \n",
    "        X = torch.cat((X1, X2), dim=1)\n",
    "        \n",
    "        X = F.relu(self.p3_conv(X))\n",
    "        if self.scale:\n",
    "            X = self.scaleLayer(X)\n",
    "        \n",
    "        X = self.batchNorm(X)\n",
    "        if not self.noRelu:\n",
    "            X = F.relu(X)\n",
    "        \n",
    "        return X"
   ]
  },
  {
   "cell_type": "markdown",
   "id": "87f28d9b",
   "metadata": {},
   "source": [
    "### Definition of ResNet Block - Reduction A"
   ]
  },
  {
   "cell_type": "code",
   "execution_count": null,
   "id": "c87573ae",
   "metadata": {},
   "outputs": [],
   "source": [
    "class InceptionResnetv2ReductionA(nn.Module):\n",
    "    def __init__(self):\n",
    "        super().__init__()\n",
    "        \n",
    "        self.p1_mpool1 = nn.MaxPool2d(kernel_size=3, stride=2)\n",
    "        \n",
    "        self.p2_conv1 = nn.Conv2d(320, 384, kernel_size=3, stride=2)\n",
    "        \n",
    "        self.p3_conv1 = nn.Conv2d(320, 256, kernel_size=1, padding='same')\n",
    "        self.p3_conv2 = nn.Conv2d(256, 256, kernel_size=3, padding='same')\n",
    "        self.p3_conv3 = nn.Conv2d(256, 384, kernel_size=3, stride=2)\n",
    "        \n",
    "        self.batchNorm = nn.BatchNorm2d(1088, affine=True)\n",
    "        \n",
    "    def forward(self, X):\n",
    "        \n",
    "        X1 = self.p1_mpool1(X)\n",
    "        \n",
    "        X2 = F.relu(self.p2_conv1(X))\n",
    "        \n",
    "        X3 = F.relu(self.p3_conv1(X))\n",
    "        X3 = F.relu(self.p3_conv2(X3))\n",
    "        X3 = F.relu(self.p3_conv3(X3))\n",
    "        \n",
    "        X = torch.cat((X1, X2, X3), dim=1)\n",
    "        \n",
    "        X = self.batchNorm(X)\n",
    "        X = F.relu(X)\n",
    "        \n",
    "        return X"
   ]
  },
  {
   "cell_type": "markdown",
   "id": "aef92953",
   "metadata": {},
   "source": [
    "### Definition of ResNet Block - Reduction B"
   ]
  },
  {
   "cell_type": "code",
   "execution_count": null,
   "id": "a59ffe40",
   "metadata": {},
   "outputs": [],
   "source": [
    "class InceptionResnetv2ReductionB(nn.Module):\n",
    "    def __init__(self):\n",
    "        super().__init__()\n",
    "        \n",
    "        self.p1_mpool1 = nn.MaxPool2d(kernel_size=3, stride=2)\n",
    "        \n",
    "        self.p2_conv1 = nn.Conv2d(1088, 256, kernel_size=1, padding='same')\n",
    "        self.p2_conv2 = nn.Conv2d(256, 384, kernel_size=3, stride=2)\n",
    "        \n",
    "        self.p3_conv1 = nn.Conv2d(1088, 256, kernel_size=1, padding='same')\n",
    "        self.p3_conv2 = nn.Conv2d(256, 288, kernel_size=3, stride=2)\n",
    "        \n",
    "        self.p4_conv1 = nn.Conv2d(1088, 256, kernel_size=1, padding='same')\n",
    "        self.p4_conv2 = nn.Conv2d(256, 288, kernel_size=3, padding=1)\n",
    "        self.p4_conv3 = nn.Conv2d(288, 320, kernel_size=3, stride=2)\n",
    "        \n",
    "        self.batchNorm = nn.BatchNorm2d(2080, affine=True)\n",
    "        \n",
    "    def forward(self, X):\n",
    "        \n",
    "        X1 = self.p1_mpool1(X)\n",
    "        \n",
    "        X2 = F.relu(self.p2_conv1(X))\n",
    "        X2 = F.relu(self.p2_conv2(X2))\n",
    "        \n",
    "        X3 = F.relu(self.p3_conv1(X))\n",
    "        X3 = F.relu(self.p3_conv2(X3))\n",
    "        \n",
    "        X4 = F.relu(self.p4_conv1(X))\n",
    "        X4 = F.relu(self.p4_conv2(X4))\n",
    "        X4 = F.relu(self.p4_conv3(X4))\n",
    "        \n",
    "        X = torch.cat((X1, X2, X3, X4), dim=1)\n",
    "        \n",
    "        X = self.batchNorm(X)\n",
    "        X = F.relu(X)\n",
    "        \n",
    "        return X"
   ]
  },
  {
   "cell_type": "markdown",
   "id": "0457b220",
   "metadata": {},
   "source": [
    "### Definition of final Model"
   ]
  },
  {
   "cell_type": "code",
   "execution_count": null,
   "id": "201f6d34",
   "metadata": {},
   "outputs": [],
   "source": [
    "class InceptionResnetV2(nn.Module):\n",
    "    def __init__(self, scale=True, feature_list_size=1001):\n",
    "        super().__init__()\n",
    "        \n",
    "        self.scale = scale\n",
    "        self.stem = InceptionResnetv2Stem()\n",
    "        self.a = InceptionResnetv2A(scale=True)\n",
    "        self.b = InceptionResnetv2B(scale=True)\n",
    "        self.c = InceptionResnetv2C(scale=True)\n",
    "        self.noreluc = InceptionResnetv2C(scale=True, noRelu=True)\n",
    "        self.red_a = InceptionResnetv2ReductionA()\n",
    "        self.red_b = InceptionResnetv2ReductionB()\n",
    "        \n",
    "        self.avgpool = nn.AvgPool2d(8)\n",
    "        \n",
    "        self.conv2d = nn.Conv2d(2080, 1536, kernel_size=1,)\n",
    "        \n",
    "        self.dropout = nn.Dropout(0.8)\n",
    "        self.flatten = nn.Flatten()\n",
    "        \n",
    "        self.linear = nn.Linear(in_features=1536, out_features=feature_list_size)\n",
    "        \n",
    "    \n",
    "    def forward(self, X):\n",
    "        X = self.stem(X)\n",
    "        \n",
    "        for i in range(10):\n",
    "            X = self.a(X)\n",
    "        \n",
    "        X = self.red_a(X)\n",
    "        \n",
    "        for i in range(20):\n",
    "            X = self.b(X)\n",
    "        \n",
    "        X = self.red_b(X)\n",
    "        \n",
    "        for i in range(9):\n",
    "            X = self.c(X)\n",
    "            \n",
    "        X = self.noreluc(X)\n",
    "        \n",
    "        X = self.conv2d(X)\n",
    "        \n",
    "        X = self.dropout(X)\n",
    "        \n",
    "        X = self.avgpool(X)\n",
    "        \n",
    "        X = X.view(X.size(0), -1)\n",
    "        \n",
    "        X = self.linear(X)\n",
    "        \n",
    "        return X\n",
    "        "
   ]
  },
  {
   "cell_type": "markdown",
   "id": "dc81b788",
   "metadata": {},
   "source": [
    "### Test run of a random Tensor through the model"
   ]
  },
  {
   "cell_type": "code",
   "execution_count": null,
   "id": "8cb0d63b",
   "metadata": {},
   "outputs": [],
   "source": [
    "X = torch.randn(1, 3, 299, 299)\n",
    "model = InceptionResnetV2(feature_list_size=7)\n",
    "model.forward(X)"
   ]
  },
  {
   "cell_type": "markdown",
   "id": "357b0693",
   "metadata": {},
   "source": [
    "### Getting details of GPU present on machine and defining helpers to load previous models"
   ]
  },
  {
   "cell_type": "code",
   "execution_count": null,
   "id": "781c938a",
   "metadata": {},
   "outputs": [],
   "source": [
    "!nvidia-smi"
   ]
  },
  {
   "cell_type": "code",
   "execution_count": null,
   "id": "fe06593e",
   "metadata": {},
   "outputs": [],
   "source": [
    "torch.cuda.device_count()"
   ]
  },
  {
   "cell_type": "code",
   "execution_count": null,
   "id": "b76c0ed8",
   "metadata": {},
   "outputs": [],
   "source": [
    "def try_gpu_else_cpu():\n",
    "    devices = [torch.device(f'cuda:{i}') for i in range(torch.cuda.device_count())]\n",
    "    return devices if devices else [torch.device('cpu')]\n",
    "device = try_gpu_else_cpu()"
   ]
  },
  {
   "cell_type": "code",
   "execution_count": null,
   "id": "01611b17",
   "metadata": {},
   "outputs": [],
   "source": [
    "def load_model_from_checkpoint(path):\n",
    "    res = torch.load(path)\n",
    "    model = InceptionResnetV2(feature_list_size=7)\n",
    "    model.load_state_dict(res['model.state_dict'])\n",
    "    optimizer = optim.Adam(net.parameters(), weight_decay=0.009, amsgrad=True)\n",
    "    optimizer.load_state_dict(res['optimizer.state_dict'])\n",
    "    epoch = res['epoch']\n",
    "    return model, optimizer, epoch"
   ]
  },
  {
   "cell_type": "markdown",
   "id": "0cc2164f",
   "metadata": {},
   "source": [
    "### Original-paper specified the following parameters"
   ]
  },
  {
   "cell_type": "code",
   "execution_count": null,
   "id": "d2dde3e7",
   "metadata": {},
   "outputs": [],
   "source": [
    "optimizer = optim.RMSprop(model.parameters(), weight_decay=0.9, eps=1.0, lr=0.045)\n",
    "loss_fn = nn.NLLLoss()"
   ]
  },
  {
   "cell_type": "markdown",
   "id": "6e5cb0fa",
   "metadata": {},
   "source": [
    "### Dataset preprocessing and Model training"
   ]
  },
  {
   "cell_type": "code",
   "execution_count": null,
   "id": "32004c48",
   "metadata": {},
   "outputs": [],
   "source": [
    "import os\n",
    "PATH = '/Users/suvad/Python Works/images' ## Set this to your own folder which stores the dataset images\n",
    "print(os.listdir(PATH))\n",
    "from torchvision import datasets, transforms\n",
    "train_transforms = transforms.Compose([transforms.ToTensor(), transforms.Resize(size=(299,299), interpolation=transforms.InterpolationMode.BILINEAR), transforms.Normalize((0.5, 0.5, 0.5), (0.5, 0.5, 0.5))])\n",
    "train_dataset = datasets.ImageFolder('/Users/suvad/Python Works/images/train', transform=train_transforms)\n",
    "\n",
    "data_train = DataLoader(train_dataset, shuffle=True, batch_size=5)\n",
    "\n",
    "images, labels = next(iter(data_train))\n",
    "\n",
    "img_tr = transforms.ToPILImage()\n",
    "for i in images:\n",
    "    img_tr(i).show()\n",
    "print(labels)"
   ]
  },
  {
   "cell_type": "markdown",
   "id": "5930449d",
   "metadata": {},
   "source": [
    "### Getting CUDA Memory summary and usage diagnostics"
   ]
  },
  {
   "cell_type": "code",
   "execution_count": null,
   "id": "a54ca7ec",
   "metadata": {
    "scrolled": true
   },
   "outputs": [],
   "source": [
    "print(torch.cuda.memory_summary(device=device, abbreviated=False))"
   ]
  },
  {
   "cell_type": "markdown",
   "id": "2339434f",
   "metadata": {},
   "source": [
    "### Cleaning all previous cache before using GPU"
   ]
  },
  {
   "cell_type": "code",
   "execution_count": null,
   "id": "1586169b",
   "metadata": {},
   "outputs": [],
   "source": [
    "torch.cuda.empty_cache()"
   ]
  },
  {
   "cell_type": "markdown",
   "id": "af4e0805",
   "metadata": {},
   "source": [
    "### Setting all seeds and options required to maintain reproducibility"
   ]
  },
  {
   "cell_type": "code",
   "execution_count": null,
   "id": "2b4de5c4",
   "metadata": {},
   "outputs": [],
   "source": [
    "torch.backends.cudnn.benchmark = True\n",
    "torch.manual_seed(1)\n",
    "torch.cuda.manual_seed(1)"
   ]
  },
  {
   "cell_type": "markdown",
   "id": "9bc13336",
   "metadata": {},
   "source": [
    "### Training function"
   ]
  },
  {
   "cell_type": "code",
   "execution_count": null,
   "id": "e11885aa",
   "metadata": {},
   "outputs": [],
   "source": [
    "def train_net(train_loader, epochs=2):\n",
    "    \n",
    "    CURRENT_DIRECTORY = os.getcwd()\n",
    "    EPOCH_DIRECTORY = os.path.join(CURRENT_DIRECTORY, 'resnet-v2-epochs')\n",
    "    if not os.path.exists(EPOCH_DIRECTORY):\n",
    "        os.mkdir(EPOCH_DIRECTORY)\n",
    "        \n",
    "        \n",
    "    net = InceptionResnetV2(feature_list_size=7).cuda()\n",
    "    if os.path.exists(f'model_ckpt_epoch{}.pkl') \n",
    "    loss_fn = nn.CrossEntropyLoss()\n",
    "    optimizer = optim.Adam(net.parameters(), weight_decay=0.009, amsgrad=True)\n",
    "    scheduler = optim.lr_scheduler.ReduceLROnPlateau(optimizer, mode='min', factor=0.2, threshold=0.01, patience=5)\n",
    "    \n",
    "    running_loss = 0.00\n",
    "    count = 0\n",
    "    \n",
    "    writer = SummaryWriter()\n",
    "    \n",
    "    \n",
    "    \n",
    "    for i in range(epochs):\n",
    "        \n",
    "        pbar = tqdm_notebook(enumerate(BackgroundGenerator(train_loader), 0),\n",
    "                    total=len(train_loader))\n",
    "        start_time = time.time()\n",
    "        \n",
    "        CHECKPOINT_PATH = os.path.join(EPOCH_DIRECTORY, f'model_ckpt_epoch{i+1}.pkl')\n",
    "        \n",
    "        for j, data in pbar:\n",
    "            images, labels = data\n",
    "            if torch.cuda.is_available():\n",
    "                inp = torch.autograd.Variable(images).cuda()\n",
    "                targs = torch.autograd.Variable(labels).cuda()\n",
    "                \n",
    "            prepare_time = start_time-time.time()\n",
    "\n",
    "            optimizer.zero_grad()\n",
    "\n",
    "            output = net(inp)\n",
    "            loss = loss_fn(output, targs)\n",
    "            loss.backward()\n",
    "            optimizer.step()\n",
    "            count+=1\n",
    "            \n",
    "            process_time = start_time-time.time()-prepare_time\n",
    "            pbar.set_description(f'Efficiency = {process_time/(process_time+prepare_time)}\\nEpochs: {i+1}/{epochs}')\n",
    "            running_loss += loss.item()\n",
    "            \n",
    "            writer.add_scalar('Compute Time efficiency (per mini-batch)', process_time/(process_time+prepare_time),\n",
    "                             j)\n",
    "            writer.add_scalar('Training Loss', loss, j)\n",
    "            \n",
    "        scheduler.step(loss)\n",
    "        torch.save({\n",
    "            \"model.state_dict\" : net.state_dict(),\n",
    "            \"optimizer.state_dict\" : optimizer.state_dict(),\n",
    "            \"epoch\":i\n",
    "        }, CHECKPOINT_PATH)\n",
    "    \n",
    "    writer.flush()\n",
    "    writer.close()\n",
    "    return net, optimizer"
   ]
  },
  {
   "cell_type": "code",
   "execution_count": null,
   "id": "b8f2777c",
   "metadata": {},
   "outputs": [],
   "source": [
    "net, opt = train_net(data_train, epochs=10)"
   ]
  },
  {
   "cell_type": "markdown",
   "id": "9734850f",
   "metadata": {},
   "source": [
    "### Using Tensorboard. Navigate to http://localhost:6006/ while cell is executing"
   ]
  },
  {
   "cell_type": "code",
   "execution_count": null,
   "id": "bf868691",
   "metadata": {
    "scrolled": true
   },
   "outputs": [],
   "source": [
    "# View Tensorboard\n",
    "%pip install tensorboard\n",
    "%tensorboard --logdir=runs"
   ]
  },
  {
   "cell_type": "markdown",
   "id": "e190e775",
   "metadata": {},
   "source": [
    "### Defining functions to generate predictions from model"
   ]
  },
  {
   "cell_type": "code",
   "execution_count": null,
   "id": "99a72234",
   "metadata": {},
   "outputs": [],
   "source": [
    "def predict_class(img, transform_func):\n",
    "    classes = ['Anger', 'Disgust', 'Fear', 'Happy', 'Neutral', 'Sad', 'Surprise']\n",
    "    var = torch.autograd.Variable(img)\n",
    "    \n",
    "    # Use latest model epoch by changing path\n",
    "    model, opt, ep = load_model_from_checkpoint(\"C:\\\\Users\\\\suvad\\\\Python Works\\\\resnet-v2-epochs\\\\model_ckpt_epoch2.pkl\")\n",
    "    res = model(var)\n",
    "    res = res.cpu()\n",
    "    clsf = res.data.numpy().argmax()\n",
    "    print(clsf)\n",
    "    pred = classes[clsf]\n",
    "    return pred"
   ]
  },
  {
   "cell_type": "code",
   "execution_count": null,
   "id": "fa0df8c0",
   "metadata": {
    "scrolled": true
   },
   "outputs": [],
   "source": [
    "test_transforms = transforms.Compose([transforms.ToTensor(), transforms.Resize(size=(299,299), interpolation=transforms.InterpolationMode.BICUBIC), transforms.Normalize((0.5, 0.5, 0.5), (0.5, 0.5, 0.5))])\n",
    "test_dataset = datasets.ImageFolder('C:/Users/suvad/Python Works/images/validation', transform=test_transforms)\n",
    "\n",
    "data_test = DataLoader(test_dataset, shuffle=True, batch_size=1)\n",
    "\n",
    "for i, data in enumerate(data_test):\n",
    "    images, labels = data\n",
    "    predict_class(images, test_transforms)"
   ]
  }
 ],
 "metadata": {
  "kernelspec": {
   "display_name": "Python 3",
   "language": "python",
   "name": "python3"
  },
  "language_info": {
   "codemirror_mode": {
    "name": "ipython",
    "version": 3
   },
   "file_extension": ".py",
   "mimetype": "text/x-python",
   "name": "python",
   "nbconvert_exporter": "python",
   "pygments_lexer": "ipython3",
   "version": "3.9.5"
  }
 },
 "nbformat": 4,
 "nbformat_minor": 5
}
